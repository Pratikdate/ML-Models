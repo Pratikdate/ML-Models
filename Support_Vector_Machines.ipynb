{
  "nbformat": 4,
  "nbformat_minor": 0,
  "metadata": {
    "colab": {
      "provenance": []
    },
    "kernelspec": {
      "name": "python3",
      "display_name": "Python 3"
    },
    "language_info": {
      "name": "python"
    }
  },
  "cells": [
    {
      "cell_type": "markdown",
      "source": [
        "Linear SVM"
      ],
      "metadata": {
        "id": "QOcx1awHFUO6"
      }
    },
    {
      "cell_type": "markdown",
      "source": [
        "In Scikit-Learn’s SVM classes, you can control this balance using the C hyperparame‐\n",
        "ter: a smaller C value leads to a wider street but more margin violations. Figure 5-4\n",
        "shows the decision boundaries and margins of two soft margin SVM classifiers on a\n",
        "nonlinearly separable dataset"
      ],
      "metadata": {
        "id": "LVEk64newcwj"
      }
    },
    {
      "cell_type": "markdown",
      "source": [
        "If your SVM model is overfitting, you can try regularizing it by\n",
        "reducing C."
      ],
      "metadata": {
        "id": "IvbwX49Lw2cd"
      }
    },
    {
      "cell_type": "code",
      "execution_count": null,
      "metadata": {
        "id": "sOQcTdchuYQf"
      },
      "outputs": [],
      "source": [
        "import matplotlib.pyplot as plt\n",
        "import numpy as np\n",
        "import sklearn\n",
        "import tensorflow as tf\n",
        "from sklearn import datasets\n",
        "from sklearn.pipeline import Pipeline\n",
        "from sklearn.preprocessing import StandardScaler\n",
        "from sklearn.svm import LinearSVC"
      ]
    },
    {
      "cell_type": "code",
      "source": [
        "\n",
        "iris = datasets.load_iris()\n",
        "X = iris[\"data\"][:, (2, 3)] # petal length, petal width\n",
        "y = (iris[\"target\"] == 2).astype(np.float64)\n",
        "iris.keys()"
      ],
      "metadata": {
        "colab": {
          "base_uri": "https://localhost:8080/"
        },
        "id": "g4U8lU0Vw-NL",
        "outputId": "6240e68f-d801-4db1-fdbf-da80bc933b57"
      },
      "execution_count": null,
      "outputs": [
        {
          "output_type": "execute_result",
          "data": {
            "text/plain": [
              "dict_keys(['data', 'target', 'frame', 'target_names', 'DESCR', 'feature_names', 'filename', 'data_module'])"
            ]
          },
          "metadata": {},
          "execution_count": 4
        }
      ]
    },
    {
      "cell_type": "code",
      "source": [
        "\n",
        "svm_clf = Pipeline([\n",
        " (\"scaler\", StandardScaler()),\n",
        " (\"linear_svc\", LinearSVC(C=1, loss=\"hinge\")),\n",
        " ])\n",
        "\n",
        "svm_clf.fit(X, y)"
      ],
      "metadata": {
        "colab": {
          "base_uri": "https://localhost:8080/"
        },
        "id": "G8j8lZDpxBY6",
        "outputId": "7b4e5434-a216-4bf3-bfe7-2b16867ecb46"
      },
      "execution_count": null,
      "outputs": [
        {
          "output_type": "execute_result",
          "data": {
            "text/plain": [
              "Pipeline(steps=[('scaler', StandardScaler()),\n",
              "                ('linear_svc', LinearSVC(C=1, loss='hinge'))])"
            ]
          },
          "metadata": {},
          "execution_count": 6
        }
      ]
    },
    {
      "cell_type": "code",
      "source": [
        "\n",
        "x_new=np.array([[0.,2.],[1.4,1.5],[1.8,2],[2.,2.7],[7,9]  ,[4,6],[1,1.4],[3,3.6],[1,2]])\n",
        "\n",
        "pre=svm_clf.predict(x_new)\n",
        "plt.scatter(x_new[:,0],pre)\n",
        "plt.scatter(x_new[:,1],pre)\n",
        "plt.scatter(X[:,0],X[:,1])"
      ],
      "metadata": {
        "colab": {
          "base_uri": "https://localhost:8080/",
          "height": 274
        },
        "id": "PVGtaNWtxZza",
        "outputId": "9afcfb82-f237-43ca-db90-1a567009e907"
      },
      "execution_count": null,
      "outputs": [
        {
          "output_type": "execute_result",
          "data": {
            "text/plain": [
              "<matplotlib.collections.PathCollection at 0x7ff853d3da90>"
            ]
          },
          "metadata": {},
          "execution_count": 7
        },
        {
          "output_type": "display_data",
          "data": {
            "text/plain": [
              "<Figure size 432x288 with 1 Axes>"
            ],
            "image/png": "[encoded data removed]"
          },
          "metadata": {
            "needs_background": "light"
          }
        }
      ]
    },
    {
      "cell_type": "markdown",
      "source": [
        "Unlike Logistic Regression classifiers, SVM classifiers do not out‐\n",
        "put probabilities for each class"
      ],
      "metadata": {
        "id": "mrXOIC3kxuxj"
      }
    },
    {
      "cell_type": "markdown",
      "source": [
        "Nonlinear SVM Classication"
      ],
      "metadata": {
        "id": "p2YWYHdJ3t6U"
      }
    },
    {
      "cell_type": "code",
      "source": [
        "\n",
        "from sklearn.datasets import make_moons\n",
        "from sklearn.pipeline import Pipeline\n",
        "from sklearn.preprocessing import PolynomialFeatures\n",
        "\n",
        "\n",
        "\n",
        "polynomial_svm_clf = Pipeline([\n",
        " (\"poly_features\", PolynomialFeatures(degree=3)),\n",
        " (\"scaler\", StandardScaler()),\n",
        " (\"svm_clf\", LinearSVC(C=10, loss=\"hinge\"))\n",
        " ])\n",
        "polynomial_svm_clf.fit(X, y)"
      ],
      "metadata": {
        "id": "AwuDZfD5xwBx",
        "colab": {
          "base_uri": "https://localhost:8080/"
        },
        "outputId": "96d05ec8-2a9c-49be-cc01-e845c0984df2"
      },
      "execution_count": null,
      "outputs": [
        {
          "output_type": "execute_result",
          "data": {
            "text/plain": [
              "Pipeline(steps=[('poly_features', PolynomialFeatures(degree=3)),\n",
              "                ('scaler', StandardScaler()),\n",
              "                ('svm_clf', LinearSVC(C=10, loss='hinge'))])"
            ]
          },
          "metadata": {},
          "execution_count": 5
        }
      ]
    },
    {
      "cell_type": "code",
      "source": [
        "plt.scatter(X[:,0],X[:,1])"
      ],
      "metadata": {
        "colab": {
          "base_uri": "https://localhost:8080/",
          "height": 274
        },
        "id": "gdSj8q0d3_ve",
        "outputId": "af0d9012-2d1c-45ae-ac31-640447bfaa4a"
      },
      "execution_count": null,
      "outputs": [
        {
          "output_type": "execute_result",
          "data": {
            "text/plain": [
              "<matplotlib.collections.PathCollection at 0x7ff853882b80>"
            ]
          },
          "metadata": {},
          "execution_count": 9
        },
        {
          "output_type": "display_data",
          "data": {
            "text/plain": [
              "<Figure size 432x288 with 1 Axes>"
            ],
            "image/png": "[encoded data removed]"
          },
          "metadata": {
            "needs_background": "light"
          }
        }
      ]
    },
    {
      "cell_type": "code",
      "source": [],
      "metadata": {
        "id": "Sst7fuAGYVmP"
      },
      "execution_count": null,
      "outputs": []
    },
    {
      "cell_type": "markdown",
      "source": [
        "Polynomial Kernel"
      ],
      "metadata": {
        "id": "Rh2Ulv3652FM"
      }
    },
    {
      "cell_type": "code",
      "source": [
        "\n",
        "from sklearn.svm import SVC\n",
        "\n",
        "\n",
        "poly_kernel_svm_clf = Pipeline([\n",
        " (\"scaler\", StandardScaler()),\n",
        " (\"svm_clf\", SVC(kernel=\"poly\", degree=3, coef0=1, C=5))\n",
        " ])\n",
        "poly_kernel_svm_clf.fit(X, y)"
      ],
      "metadata": {
        "colab": {
          "base_uri": "https://localhost:8080/"
        },
        "id": "yMoyi8co5_bR",
        "outputId": "59964455-9ca5-46fc-fb6e-299904707c2a"
      },
      "execution_count": null,
      "outputs": [
        {
          "output_type": "execute_result",
          "data": {
            "text/plain": [
              "Pipeline(steps=[('scaler', StandardScaler()),\n",
              "                ('svm_clf', SVC(C=5, coef0=1, kernel='poly'))])"
            ]
          },
          "metadata": {},
          "execution_count": 6
        }
      ]
    },
    {
      "cell_type": "markdown",
      "source": [
        " The hyperparameter coef0 controls how much the model is influenced by high-\n",
        "degree polynomials versus low-degree polynomials."
      ],
      "metadata": {
        "id": "VioKJdX77Ojg"
      }
    },
    {
      "cell_type": "markdown",
      "source": [
        "A common approach to find the right hyperparameter values is to\n",
        "use grid search (see Chapter 2). It is often faster to first do a very\n",
        "coarse grid search, then a finer grid search around the best values\n",
        "found. Having a good sense of what each hyperparameter actually\n",
        "does can also help you search in the right part of the hyperparame‐\n",
        "ter space."
      ],
      "metadata": {
        "id": "sNlJPnSG6Y8G"
      }
    },
    {
      "cell_type": "code",
      "source": [],
      "metadata": {
        "id": "cjleF2C_6E5j"
      },
      "execution_count": null,
      "outputs": []
    },
    {
      "cell_type": "markdown",
      "source": [
        "Gaussian RBF Kernel"
      ],
      "metadata": {
        "id": "xGSLMfRkB-LQ"
      }
    },
    {
      "cell_type": "code",
      "source": [
        "\n",
        "rbf_kernel_svm_clf = Pipeline([\n",
        " (\"scaler\", StandardScaler()),\n",
        " (\"svm_clf\", SVC(kernel=\"rbf\", gamma=5, C=0.001))\n",
        " ])\n",
        "rbf_kernel_svm_clf.fit(X, y)"
      ],
      "metadata": {
        "colab": {
          "base_uri": "https://localhost:8080/"
        },
        "id": "fGfC6X6DB_Xw",
        "outputId": "8e9d110b-4d25-460e-cd8f-84050a18dac2"
      },
      "execution_count": null,
      "outputs": [
        {
          "output_type": "execute_result",
          "data": {
            "text/plain": [
              "Pipeline(steps=[('scaler', StandardScaler()),\n",
              "                ('svm_clf', SVC(C=0.001, gamma=5))])"
            ]
          },
          "metadata": {},
          "execution_count": 11
        }
      ]
    },
    {
      "cell_type": "markdown",
      "source": [
        "γ acts like a regularization\n",
        "hyperparameter: if your model is overfitting, you should reduce it, and if it is under‐\n",
        "fitting, you should increase it (similar to the C hyperparameter)."
      ],
      "metadata": {
        "id": "VPE7aL9kB6EA"
      }
    },
    {
      "cell_type": "markdown",
      "source": [
        "a rule of thumb, you should always try the linear\n",
        "kernel first (remember that LinearSVC is much faster than SVC(ker\n",
        "nel=\"linear\")), especially if the training set is very large or if it\n",
        "has plenty of features. If the training set is not too large, you should\n",
        "try the Gaussian RBF kernel as well; it works well in most cases.\n",
        "Then if you have spare time and computing power, you can also\n",
        "experiment with a few other kernels using cross-validation and grid\n",
        "search, especially if there are kernels specialized for your training\n",
        "set’s data structure."
      ],
      "metadata": {
        "id": "wMoCn2FDCSRL"
      }
    },
    {
      "cell_type": "markdown",
      "source": [
        "\n",
        "LinearSVC           O(m × n)    \n",
        "\n",
        "SGDClassifier        O(m × n)    \n",
        "\n",
        "SVC                  O(m² × n) to O(m³ × n)"
      ],
      "metadata": {
        "id": "IhgGOT8yCtu9"
      }
    },
    {
      "cell_type": "code",
      "source": [],
      "metadata": {
        "id": "fhz2WPyEDgMs"
      },
      "execution_count": null,
      "outputs": []
    },
    {
      "cell_type": "markdown",
      "source": [
        "SVM Regression"
      ],
      "metadata": {
        "id": "09DLjcoHDY3K"
      }
    },
    {
      "cell_type": "markdown",
      "source": [
        ". The width of the street is controlled by a hyperparame‐\n",
        "ter ϵ. Figure 5-10 shows two linear SVM Regression models trained on some random\n",
        "linear data, one with a large margin (ϵ = 1.5) and the other with a small margin (ϵ =\n",
        "0.5)."
      ],
      "metadata": {
        "id": "1lsNtz4bEHmF"
      }
    },
    {
      "cell_type": "code",
      "source": [
        "\n",
        "from sklearn.svm import LinearSVR\n",
        "svm_reg = LinearSVR(epsilon=1.5)\n",
        "svm_reg.fit(X, y)"
      ],
      "metadata": {
        "colab": {
          "base_uri": "https://localhost:8080/"
        },
        "id": "bit7wVg7DcP5",
        "outputId": "68846dc6-a3e9-4498-8c04-e2539c008663"
      },
      "execution_count": null,
      "outputs": [
        {
          "output_type": "execute_result",
          "data": {
            "text/plain": [
              "LinearSVR(epsilon=1.5)"
            ]
          },
          "metadata": {},
          "execution_count": 7
        }
      ]
    },
    {
      "cell_type": "markdown",
      "source": [],
      "metadata": {
        "id": "W3mBGnIyFBgb"
      }
    },
    {
      "cell_type": "markdown",
      "source": [
        "To tackle nonlinear regression tasks, you can use a kernelized SVM model."
      ],
      "metadata": {
        "id": "9sXn0rMJFAbr"
      }
    },
    {
      "cell_type": "code",
      "source": [
        "\n",
        "from sklearn.svm import SVR\n",
        "svm_poly_reg = SVR(kernel=\"poly\", degree=2, C=100, epsilon=0.1)\n",
        "svm_poly_reg.fit(X, y)"
      ],
      "metadata": {
        "colab": {
          "base_uri": "https://localhost:8080/"
        },
        "id": "0OKYvwBhGESA",
        "outputId": "0a0b4287-3198-44af-ff56-86e5236a2daf"
      },
      "execution_count": null,
      "outputs": [
        {
          "output_type": "execute_result",
          "data": {
            "text/plain": [
              "SVR(C=100, degree=2, kernel='poly')"
            ]
          },
          "metadata": {},
          "execution_count": 13
        }
      ]
    },
    {
      "cell_type": "code",
      "source": [],
      "metadata": {
        "id": "KqA0DGisJmvv"
      },
      "execution_count": null,
      "outputs": []
    },
    {
      "cell_type": "code",
      "source": [],
      "metadata": {
        "id": "dTiTcqJZJm3p"
      },
      "execution_count": null,
      "outputs": []
    },
    {
      "cell_type": "markdown",
      "source": [
        "Exercise"
      ],
      "metadata": {
        "id": "0CXqMElUJneV"
      }
    },
    {
      "cell_type": "code",
      "source": [],
      "metadata": {
        "id": "Vhncb8k8LOoM"
      },
      "execution_count": null,
      "outputs": []
    },
    {
      "cell_type": "code",
      "source": [
        "mnist = tf.keras.datasets.mnist\n",
        "\n",
        "(x_train, y_train), (x_test, y_test) = mnist.load_data()\n",
        "\n",
        "x_train, x_test = x_train / 255.0, x_test / 255.0\n",
        "\n",
        "number=0\n",
        "print('shape :',x_train.shape)\n",
        "plt.imshow(x_train[number])"
      ],
      "metadata": {
        "id": "D_1aBX47Jsm2",
        "colab": {
          "base_uri": "https://localhost:8080/",
          "height": 317
        },
        "outputId": "c003f6ea-9ce4-4158-8f5a-f8d594606900"
      },
      "execution_count": null,
      "outputs": [
        {
          "output_type": "stream",
          "name": "stdout",
          "text": [
            "shape : (60000, 28, 28)\n"
          ]
        },
        {
          "output_type": "execute_result",
          "data": {
            "text/plain": [
              "<matplotlib.image.AxesImage at 0x7fba7ee53f70>"
            ]
          },
          "metadata": {},
          "execution_count": 8
        },
        {
          "output_type": "display_data",
          "data": {
            "text/plain": [
              "<Figure size 432x288 with 1 Axes>"
            ],
            "image/png": "[encoded data removed]"
          },
          "metadata": {
            "needs_background": "light"
          }
        }
      ]
    },
    {
      "cell_type": "code",
      "source": [
        "x_train = x_train.reshape((len(x_train), np.prod(x_train.shape[1:])))\n",
        "x_test= x_test.reshape((len(x_test), np.prod(x_test.shape[1:])))"
      ],
      "metadata": {
        "id": "xqRNuFSxgBHO"
      },
      "execution_count": null,
      "outputs": []
    },
    {
      "cell_type": "markdown",
      "source": [
        "first we use high complexity model O(m^2*n)"
      ],
      "metadata": {
        "id": "o6xE_A2-QANj"
      }
    },
    {
      "cell_type": "code",
      "source": [
        "\n",
        "%%time\n",
        "\n",
        "\n",
        "from sklearn.multiclass import OneVsRestClassifier\n",
        "\n",
        "\n",
        "x_train = x_train.reshape((len(x_train), np.prod(x_train.shape[1:])))\n",
        "x_test= x_test.reshape((len(x_test), np.prod(x_test.shape[1:])))\n",
        "\n",
        "\n",
        "model1= Pipeline([\n",
        "(\"scaler\", StandardScaler()),\n",
        "('onevsall', OneVsRestClassifier(SVC(kernel=\"poly\", degree=3, random_state= 2,coef0=1, C=5,max_iter=100))),\n",
        "])\n",
        "\n",
        "\n",
        "model1.fit(x_train,y_train)"
      ],
      "metadata": {
        "colab": {
          "base_uri": "https://localhost:8080/"
        },
        "id": "IZzTrOBZLKi7",
        "outputId": "721a41a1-4c41-41ee-b0e1-59c7388bdedf"
      },
      "execution_count": null,
      "outputs": [
        {
          "output_type": "stream",
          "name": "stderr",
          "text": [
            "/usr/local/lib/python3.8/dist-packages/sklearn/svm/_base.py:284: ConvergenceWarning: Solver terminated early (max_iter=100).  Consider pre-processing your data with StandardScaler or MinMaxScaler.\n",
            "  warnings.warn(\n",
            "/usr/local/lib/python3.8/dist-packages/sklearn/svm/_base.py:284: ConvergenceWarning: Solver terminated early (max_iter=100).  Consider pre-processing your data with StandardScaler or MinMaxScaler.\n",
            "  warnings.warn(\n",
            "/usr/local/lib/python3.8/dist-packages/sklearn/svm/_base.py:284: ConvergenceWarning: Solver terminated early (max_iter=100).  Consider pre-processing your data with StandardScaler or MinMaxScaler.\n",
            "  warnings.warn(\n",
            "/usr/local/lib/python3.8/dist-packages/sklearn/svm/_base.py:284: ConvergenceWarning: Solver terminated early (max_iter=100).  Consider pre-processing your data with StandardScaler or MinMaxScaler.\n",
            "  warnings.warn(\n",
            "/usr/local/lib/python3.8/dist-packages/sklearn/svm/_base.py:284: ConvergenceWarning: Solver terminated early (max_iter=100).  Consider pre-processing your data with StandardScaler or MinMaxScaler.\n",
            "  warnings.warn(\n",
            "/usr/local/lib/python3.8/dist-packages/sklearn/svm/_base.py:284: ConvergenceWarning: Solver terminated early (max_iter=100).  Consider pre-processing your data with StandardScaler or MinMaxScaler.\n",
            "  warnings.warn(\n",
            "/usr/local/lib/python3.8/dist-packages/sklearn/svm/_base.py:284: ConvergenceWarning: Solver terminated early (max_iter=100).  Consider pre-processing your data with StandardScaler or MinMaxScaler.\n",
            "  warnings.warn(\n",
            "/usr/local/lib/python3.8/dist-packages/sklearn/svm/_base.py:284: ConvergenceWarning: Solver terminated early (max_iter=100).  Consider pre-processing your data with StandardScaler or MinMaxScaler.\n",
            "  warnings.warn(\n",
            "/usr/local/lib/python3.8/dist-packages/sklearn/svm/_base.py:284: ConvergenceWarning: Solver terminated early (max_iter=100).  Consider pre-processing your data with StandardScaler or MinMaxScaler.\n",
            "  warnings.warn(\n"
          ]
        },
        {
          "output_type": "stream",
          "name": "stdout",
          "text": [
            "CPU times: user 1min 19s, sys: 389 ms, total: 1min 20s\n",
            "Wall time: 1min 20s\n"
          ]
        },
        {
          "output_type": "stream",
          "name": "stderr",
          "text": [
            "/usr/local/lib/python3.8/dist-packages/sklearn/svm/_base.py:284: ConvergenceWarning: Solver terminated early (max_iter=100).  Consider pre-processing your data with StandardScaler or MinMaxScaler.\n",
            "  warnings.warn(\n"
          ]
        },
        {
          "output_type": "execute_result",
          "data": {
            "text/plain": [
              "Pipeline(steps=[('scaler', StandardScaler()),\n",
              "                ('onevsall',\n",
              "                 OneVsRestClassifier(estimator=SVC(C=5, coef0=1, kernel='poly',\n",
              "                                                   max_iter=100,\n",
              "                                                   random_state=2)))])"
            ]
          },
          "metadata": {},
          "execution_count": 16
        }
      ]
    },
    {
      "cell_type": "markdown",
      "source": [
        "model complexity is O(m*n)"
      ],
      "metadata": {
        "id": "fWUPfqu8QMVw"
      }
    },
    {
      "cell_type": "code",
      "source": [
        "model1.score(x_test,y_test)"
      ],
      "metadata": {
        "colab": {
          "base_uri": "https://localhost:8080/"
        },
        "id": "ipwHLbjIdyzO",
        "outputId": "65bb74fd-1c4a-41ba-d206-e24f10dc25f0"
      },
      "execution_count": null,
      "outputs": [
        {
          "output_type": "execute_result",
          "data": {
            "text/plain": [
              "0.7604"
            ]
          },
          "metadata": {},
          "execution_count": 17
        }
      ]
    },
    {
      "cell_type": "code",
      "source": [
        "\n",
        "%%time\n",
        "\n",
        "model2= Pipeline([\n",
        "(\"poly_features\", PolynomialFeatures(degree=2)),\n",
        "(\"scaler\", StandardScaler()),\n",
        "(\"svm_clf\", LinearSVC(C=3, max_iter=100,random_state=2,loss=\"hinge\"))\n",
        "])\n",
        "\n",
        "model2.fit(x_train,y_train)"
      ],
      "metadata": {
        "id": "aA6nvXfSOePP"
      },
      "execution_count": null,
      "outputs": []
    },
    {
      "cell_type": "code",
      "source": [
        "model2.score(x_test,y_test)"
      ],
      "metadata": {
        "id": "uVFr1sepfRQK"
      },
      "execution_count": null,
      "outputs": []
    }
  ]
}