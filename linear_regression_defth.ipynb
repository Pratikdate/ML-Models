{
  "cells": [
    {
      "cell_type": "markdown",
      "metadata": {
        "id": "view-in-github",
        "colab_type": "text"
      },
      "source": [
        "<a href=\"https://colab.research.google.com/github/Pratikdate/ML_Model_Notes/blob/main/linear_regression_defth.ipynb\" target=\"_parent\"><img src=\"https://colab.research.google.com/assets/colab-badge.svg\" alt=\"Open In Colab\"/></a>"
      ]
    },
    {
      "cell_type": "code",
      "execution_count": null,
      "metadata": {
        "id": "zyhy6_h-XC8K"
      },
      "outputs": [],
      "source": [
        "import seaborn as sns\n",
        "import sklearn \n",
        "import matplotlib.pyplot as plt\n",
        "import numpy as np\n",
        "import pandas as pd\n",
        "from sklearn import linear_model\n",
        "import tensorflow as tf\n",
        "\n",
        "from sklearn.multiclass import OneVsRestClassifier\n",
        "from sklearn.svm import LinearSVC"
      ]
    },
    {
      "cell_type": "markdown",
      "source": [
        "//Hands on Machine learning book page 117"
      ],
      "metadata": {
        "id": "972okW9xLjP2"
      }
    },
    {
      "cell_type": "markdown",
      "source": [
        "θ = ((X)\n",
        "^T .X)\n",
        "^−1\n",
        "(X\n",
        "^T\n",
        ").y\n",
        "\n",
        "\n",
        "• θ is the value of θ that minimizes the cost function.\n",
        "• y is the vector of target values containing y\n",
        "(1) to y\n",
        "(m)\n",
        ".\n",
        "Let’s generate some linear-looking data to test this equation on (Figure 4-1):"
      ],
      "metadata": {
        "id": "p3-TsF80LEgv"
      }
    },
    {
      "cell_type": "code",
      "source": [
        "\n",
        "\n",
        "X = 2 * np.random.rand(100, 1)\n",
        "y = 4 + 3 * X + np.random.randn(100, 1)\n",
        "\n",
        "plt.scatter(X,y)\n",
        "plt.xlabel('x')\n",
        "plt.ylabel('y')"
      ],
      "metadata": {
        "colab": {
          "base_uri": "https://localhost:8080/",
          "height": 245
        },
        "id": "MoHUTuMXKRXp",
        "outputId": "ecbd7f18-1e30-4778-fc6f-3887c44ed2d8"
      },
      "execution_count": null,
      "outputs": [
        {
          "output_type": "execute_result",
          "data": {
            "text/plain": [
              "Text(0, 0.5, 'y')"
            ]
          },
          "metadata": {},
          "execution_count": 118
        },
        {
          "output_type": "display_data",
          "data": {
            "text/plain": [
              "<Figure size 432x288 with 1 Axes>"
            ],
            "image/png": "[encoded data removed]"
          },
          "metadata": {
            "needs_background": "light"
          }
        }
      ]
    },
    {
      "cell_type": "markdown",
      "source": [
        "Now let’s compute θ using the Normal Equation. We will use the inv() function from\n",
        "NumPy’s Linear Algebra module (np.linalg) to compute the inverse of a matrix, and\n",
        "the dot() method for matrix multiplication:"
      ],
      "metadata": {
        "id": "1QI8JUgeLdBp"
      }
    },
    {
      "cell_type": "code",
      "source": [
        "%%time\n",
        "X_b = np.c_[np.ones((100, 1)), X] # add x0 = 1 to each instance\n",
        "theta_best = np.linalg.inv(X_b.T.dot(X_b)).dot(X_b.T).dot(y)"
      ],
      "metadata": {
        "id": "M4cJOtp_LcoN",
        "colab": {
          "base_uri": "https://localhost:8080/"
        },
        "outputId": "bc248070-2940-4495-c21f-c6a3e75eda0e"
      },
      "execution_count": null,
      "outputs": [
        {
          "output_type": "stream",
          "name": "stdout",
          "text": [
            "CPU times: user 1.09 ms, sys: 997 µs, total: 2.09 ms\n",
            "Wall time: 3.85 ms\n"
          ]
        }
      ]
    },
    {
      "cell_type": "code",
      "source": [
        "# theta_best is the best estimetter points"
      ],
      "metadata": {
        "id": "21OExZ3ZKW8S"
      },
      "execution_count": null,
      "outputs": []
    },
    {
      "cell_type": "code",
      "source": [
        "theta_best"
      ],
      "metadata": {
        "colab": {
          "base_uri": "https://localhost:8080/"
        },
        "id": "FFSPbftmKyLX",
        "outputId": "5d1e3c7d-54dc-4a45-c5f3-e04b7c6fbfee"
      },
      "execution_count": null,
      "outputs": [
        {
          "output_type": "execute_result",
          "data": {
            "text/plain": [
              "array([[4.29644662],\n",
              "       [2.73587372]])"
            ]
          },
          "metadata": {},
          "execution_count": 106
        }
      ]
    },
    {
      "cell_type": "code",
      "source": [
        "X_new=np.array([[0],[2],[1]])\n",
        "\n",
        "X_new_b = np.c_[np.ones((3, 1)), X_new] # add x0 = 1 to each instance\n",
        "print(X_new_b)\n",
        "y_predict = X_new_b.dot(theta_best)\n",
        "y_predict"
      ],
      "metadata": {
        "colab": {
          "base_uri": "https://localhost:8080/"
        },
        "id": "nb08mnbTNKTU",
        "outputId": "4aa43a11-7d84-4bef-ff45-29826a2c299c"
      },
      "execution_count": null,
      "outputs": [
        {
          "output_type": "stream",
          "name": "stdout",
          "text": [
            "[[1. 0.]\n",
            " [1. 2.]\n",
            " [1. 1.]]\n"
          ]
        },
        {
          "output_type": "execute_result",
          "data": {
            "text/plain": [
              "array([[4.29644662],\n",
              "       [9.76819405],\n",
              "       [7.03232034]])"
            ]
          },
          "metadata": {},
          "execution_count": 125
        }
      ]
    },
    {
      "cell_type": "code",
      "source": [
        "plt.scatter(X,y)\n",
        "plt.plot(X_new,y_predict,'-r')"
      ],
      "metadata": {
        "colab": {
          "base_uri": "https://localhost:8080/",
          "height": 323
        },
        "id": "ciSt3W02OhIa",
        "outputId": "7cfffa9b-ddc1-41a7-9f46-1a45fb68a9ae"
      },
      "execution_count": null,
      "outputs": [
        {
          "output_type": "execute_result",
          "data": {
            "text/plain": [
              "[<matplotlib.lines.Line2D at 0x7f9ab4ab8940>]"
            ]
          },
          "metadata": {},
          "execution_count": 126
        },
        {
          "output_type": "display_data",
          "data": {
            "text/plain": [
              "<Figure size 432x288 with 1 Axes>"
            ],
            "image/png": "[encoded data removed]"
          },
          "metadata": {
            "needs_background": "light"
          }
        }
      ]
    },
    {
      "cell_type": "code",
      "source": [
        "\n",
        "\n",
        "%%time\n",
        "from sklearn.linear_model import LinearRegression\n",
        "\n",
        "\n",
        "model=LinearRegression()\n",
        "model.fit(X,y)"
      ],
      "metadata": {
        "id": "3jhZ4izlP-Em",
        "colab": {
          "base_uri": "https://localhost:8080/"
        },
        "outputId": "dcb27a81-7001-4bf9-f206-4a7c714ebeda"
      },
      "execution_count": null,
      "outputs": [
        {
          "output_type": "stream",
          "name": "stdout",
          "text": [
            "CPU times: user 3.72 ms, sys: 0 ns, total: 3.72 ms\n",
            "Wall time: 16.9 ms\n"
          ]
        },
        {
          "output_type": "execute_result",
          "data": {
            "text/plain": [
              "LinearRegression()"
            ]
          },
          "metadata": {},
          "execution_count": 131
        }
      ]
    },
    {
      "cell_type": "code",
      "source": [
        "\n",
        "\n",
        "#print(model.score(X_new_b,))\n",
        "model.predict(X_new)"
      ],
      "metadata": {
        "id": "f7DZPrX_QgTU",
        "colab": {
          "base_uri": "https://localhost:8080/"
        },
        "outputId": "f981ecf9-cb0a-4adb-b592-e6a0aaabfd80"
      },
      "execution_count": null,
      "outputs": [
        {
          "output_type": "execute_result",
          "data": {
            "text/plain": [
              "array([[ 3.9937534 ],\n",
              "       [10.15760062],\n",
              "       [ 7.07567701]])"
            ]
          },
          "metadata": {},
          "execution_count": 134
        }
      ]
    },
    {
      "cell_type": "markdown",
      "source": [
        "Gradient Desent"
      ],
      "metadata": {
        "id": "GEDBAMxlSf8k"
      }
    },
    {
      "cell_type": "markdown",
      "source": [
        "n 4-7. Gradient Descent step\n",
        "\n",
        "θ\n",
        "next step\n",
        "= θ − η∇θ MSE θ\n",
        "\n",
        "Let’s look at a quick implementation of this algorithm:"
      ],
      "metadata": {
        "id": "m5tDoFadSkl0"
      }
    },
    {
      "cell_type": "code",
      "source": [
        "\n",
        "eta = 0.1 # learning rate\n",
        "n_iterations = 1000\n",
        "\n",
        "m = 100\n",
        "pre=[]\n",
        "thi=[]\n",
        "theta = np.random.randn(2,1) # random initialization\n",
        "\n",
        "for iteration in range(n_iterations):\n",
        "\n",
        " gradients = 2/m * X_b.T.dot(X_b.dot(theta) - y)\n",
        " theta = theta - eta * gradients\n",
        " thi.append(theta)\n",
        " y_predict = X_new_b.dot(theta)\n",
        " pre.append(y_predict)\n",
        "\n",
        "for i in range(n_iterations):\n",
        "    plt.plot(X_new,pre[i])\n",
        "\n",
        "#plt.plot(X_new,pre[2])\n",
        "plt.scatter(X,y)\n",
        "\n",
        "theta"
      ],
      "metadata": {
        "id": "HFdSzLfDSj58",
        "colab": {
          "base_uri": "https://localhost:8080/",
          "height": 258
        },
        "outputId": "9f110e37-85a5-4883-adc8-a51dc804cf96"
      },
      "execution_count": null,
      "outputs": [
        {
          "output_type": "execute_result",
          "data": {
            "text/plain": [
              "array([[3.9937534 ],\n",
              "       [3.08192361]])"
            ]
          },
          "metadata": {},
          "execution_count": 153
        },
        {
          "output_type": "display_data",
          "data": {
            "text/plain": [
              "<Figure size 432x288 with 1 Axes>"
            ],
            "image/png": "[encoded data removed]"
          },
          "metadata": {
            "needs_background": "light"
          }
        }
      ]
    },
    {
      "cell_type": "code",
      "source": [
        "y_predict = X_new_b.dot(theta)\n",
        "y_predict"
      ],
      "metadata": {
        "colab": {
          "base_uri": "https://localhost:8080/"
        },
        "id": "PTJY1T7mXj-P",
        "outputId": "384148a3-db7d-49c9-8199-e6cda582a3c2"
      },
      "execution_count": null,
      "outputs": [
        {
          "output_type": "execute_result",
          "data": {
            "text/plain": [
              "array([[ 3.9937534 ],\n",
              "       [10.15760062],\n",
              "       [ 7.07567701]])"
            ]
          },
          "metadata": {},
          "execution_count": 138
        }
      ]
    },
    {
      "cell_type": "code",
      "source": [
        "plt.plot(X_new,y_predict)\n",
        "plt.scatter(X,y)"
      ],
      "metadata": {
        "colab": {
          "base_uri": "https://localhost:8080/",
          "height": 277
        },
        "id": "Yk_59mw-XBYH",
        "outputId": "c43fa4aa-783f-4fbc-a264-9f820252317a"
      },
      "execution_count": null,
      "outputs": [
        {
          "output_type": "execute_result",
          "data": {
            "text/plain": [
              "<matplotlib.collections.PathCollection at 0x7f9ab42f3b80>"
            ]
          },
          "metadata": {},
          "execution_count": 165
        },
        {
          "output_type": "display_data",
          "data": {
            "text/plain": [
              "<Figure size 432x288 with 1 Axes>"
            ],
            "image/png": "[encoded data removed]"
          },
          "metadata": {
            "needs_background": "light"
          }
        }
      ]
    },
    {
      "cell_type": "markdown",
      "source": [
        "Polynomial Regression curve"
      ],
      "metadata": {
        "id": "ADWWbYVadIwj"
      }
    },
    {
      "cell_type": "code",
      "source": [
        "\n",
        "m = 100\n",
        "X = 6 * np.random.rand(m, 1) - 3\n",
        "y = 0.5 * X**2 + X + 2 + np.random.randn(m, 1)"
      ],
      "metadata": {
        "id": "YNHvIMwWdO2g"
      },
      "execution_count": null,
      "outputs": []
    },
    {
      "cell_type": "code",
      "source": [
        "from sklearn.preprocessing import PolynomialFeatures\n",
        "\n",
        "poly_features = PolynomialFeatures(degree=2, include_bias=False)\n",
        "\n",
        "X_poly = poly_features.fit_transform(X)\n",
        "print('new points x:',X_poly[0])\n",
        "print('old points :',X[0])"
      ],
      "metadata": {
        "colab": {
          "base_uri": "https://localhost:8080/"
        },
        "id": "ducLPPiLdPtW",
        "outputId": "8406b85f-ebb0-4120-c72d-b99d870cc080"
      },
      "execution_count": null,
      "outputs": [
        {
          "output_type": "stream",
          "name": "stdout",
          "text": [
            "new points x: [-0.51619942  0.26646184]\n",
            "old points : [-0.51619942]\n"
          ]
        }
      ]
    },
    {
      "cell_type": "code",
      "source": [
        "lin_reg=LinearRegression()\n",
        "lin_reg.fit(X_poly,y)"
      ],
      "metadata": {
        "colab": {
          "base_uri": "https://localhost:8080/"
        },
        "id": "Bh1M4xKBeBze",
        "outputId": "c82e6220-472e-43c4-8164-3a0a484e5331"
      },
      "execution_count": null,
      "outputs": [
        {
          "output_type": "execute_result",
          "data": {
            "text/plain": [
              "LinearRegression()"
            ]
          },
          "metadata": {},
          "execution_count": 189
        }
      ]
    },
    {
      "cell_type": "code",
      "source": [
        "plt.scatter(X,y)"
      ],
      "metadata": {
        "colab": {
          "base_uri": "https://localhost:8080/",
          "height": 277
        },
        "id": "RSjqWHyifSY-",
        "outputId": "a3d35431-fccf-4171-a256-c36458c90f20"
      },
      "execution_count": null,
      "outputs": [
        {
          "output_type": "execute_result",
          "data": {
            "text/plain": [
              "<matplotlib.collections.PathCollection at 0x7f9ab196c8e0>"
            ]
          },
          "metadata": {},
          "execution_count": 186
        },
        {
          "output_type": "display_data",
          "data": {
            "text/plain": [
              "<Figure size 432x288 with 1 Axes>"
            ],
            "image/png": "[encoded data removed]"
          },
          "metadata": {
            "needs_background": "light"
          }
        }
      ]
    },
    {
      "cell_type": "code",
      "source": [
        "pre=lin_reg.predict(X_poly)\n",
        "plt.scatter(X,pre)\n",
        "plt.scatter(X,y)"
      ],
      "metadata": {
        "colab": {
          "base_uri": "https://localhost:8080/",
          "height": 320
        },
        "id": "G91ixp92eQ3d",
        "outputId": "1670f809-8322-415b-ef2a-362c55746585"
      },
      "execution_count": null,
      "outputs": [
        {
          "output_type": "execute_result",
          "data": {
            "text/plain": [
              "<matplotlib.collections.PathCollection at 0x7f9ab189f850>"
            ]
          },
          "metadata": {},
          "execution_count": 190
        },
        {
          "output_type": "display_data",
          "data": {
            "text/plain": [
              "<Figure size 432x288 with 1 Axes>"
            ],
            "image/png": "[encoded data removed]"
          },
          "metadata": {
            "needs_background": "light"
          }
        }
      ]
    },
    {
      "cell_type": "markdown",
      "source": [
        " high-degree Polynomial Regression model is severely overfitting the\n",
        "training data, while the linear model is underfitting it."
      ],
      "metadata": {
        "id": "pSY8Ma9Bipzi"
      }
    },
    {
      "cell_type": "code",
      "source": [
        "\n",
        "from sklearn.pipeline import Pipeline\n",
        "\n",
        "\n",
        "\n",
        "polynomial_regression = Pipeline([\n",
        " (\"poly_features\", PolynomialFeatures(degree=20, include_bias=False)),\n",
        " (\"lin_reg\", LinearRegression()),\n",
        " ])\n",
        "#plot_learning_curves(polynomial_regression, X, y)"
      ],
      "metadata": {
        "id": "YGtzQJ2sjQhD"
      },
      "execution_count": null,
      "outputs": []
    },
    {
      "cell_type": "code",
      "source": [
        "polynomial_regression.fit(X,y)"
      ],
      "metadata": {
        "colab": {
          "base_uri": "https://localhost:8080/"
        },
        "id": "QjsN_KtGjkOg",
        "outputId": "f9f708c3-851d-406b-d14e-872876d0b7c4"
      },
      "execution_count": null,
      "outputs": [
        {
          "output_type": "execute_result",
          "data": {
            "text/plain": [
              "Pipeline(steps=[('poly_features',\n",
              "                 PolynomialFeatures(degree=20, include_bias=False)),\n",
              "                ('lin_reg', LinearRegression())])"
            ]
          },
          "metadata": {},
          "execution_count": 212
        }
      ]
    },
    {
      "cell_type": "code",
      "source": [
        "pre=polynomial_regression.predict(X)\n",
        "plt.scatter(X,pre)\n",
        "plt.scatter(X,y)"
      ],
      "metadata": {
        "colab": {
          "base_uri": "https://localhost:8080/",
          "height": 320
        },
        "id": "P4Yoj9sRj0D5",
        "outputId": "4e898a9c-8d73-4d32-a703-6db4a505590f"
      },
      "execution_count": null,
      "outputs": [
        {
          "output_type": "execute_result",
          "data": {
            "text/plain": [
              "<matplotlib.collections.PathCollection at 0x7f9ab162d430>"
            ]
          },
          "metadata": {},
          "execution_count": 213
        },
        {
          "output_type": "display_data",
          "data": {
            "text/plain": [
              "<Figure size 432x288 with 1 Axes>"
            ],
            "image/png": "[encoded data removed]"
          },
          "metadata": {
            "needs_background": "light"
          }
        }
      ]
    },
    {
      "cell_type": "markdown",
      "source": [
        "Above model going to overfit becaiuse of high degree 20"
      ],
      "metadata": {
        "id": "XbNpr4uhk1aB"
      }
    },
    {
      "cell_type": "code",
      "source": [
        "\n",
        " from sklearn.linear_model import Lasso, Ridge,SGDRegressor\n",
        "\n",
        "\n",
        "\n",
        "ridge_reg = Ridge(alpha=0.05,solver=\"cholesky\")\n",
        "ridge_reg.fit(X, y)"
      ],
      "metadata": {
        "colab": {
          "base_uri": "https://localhost:8080/"
        },
        "id": "VR7WD0XmmZBn",
        "outputId": "78357bbf-2957-40e0-e2cc-1bb2cc85b65f"
      },
      "execution_count": null,
      "outputs": [
        {
          "output_type": "execute_result",
          "data": {
            "text/plain": [
              "Ridge(alpha=0.05, solver='cholesky')"
            ]
          },
          "metadata": {},
          "execution_count": 252
        }
      ]
    },
    {
      "cell_type": "code",
      "source": [
        "pre_r=ridge_reg.predict(X)\n",
        "plt.scatter(X,pre_r)\n",
        "plt.scatter(X,y)"
      ],
      "metadata": {
        "colab": {
          "base_uri": "https://localhost:8080/",
          "height": 277
        },
        "id": "kLZy5l0umoDZ",
        "outputId": "468d1af2-cbc3-48c3-d00b-9f2c4b701a04"
      },
      "execution_count": null,
      "outputs": [
        {
          "output_type": "execute_result",
          "data": {
            "text/plain": [
              "<matplotlib.collections.PathCollection at 0x7f9ab46c9b20>"
            ]
          },
          "metadata": {},
          "execution_count": 253
        },
        {
          "output_type": "display_data",
          "data": {
            "text/plain": [
              "<Figure size 432x288 with 1 Axes>"
            ],
            "image/png": "[encoded data removed]"
          },
          "metadata": {
            "needs_background": "light"
          }
        }
      ]
    },
    {
      "cell_type": "code",
      "source": [
        "ridge_reg.coef_"
      ],
      "metadata": {
        "colab": {
          "base_uri": "https://localhost:8080/"
        },
        "id": "GAA1wq1Ws19d",
        "outputId": "c608c1fe-6e26-4dae-90f1-720085c14372"
      },
      "execution_count": null,
      "outputs": [
        {
          "output_type": "execute_result",
          "data": {
            "text/plain": [
              "array([[1.11896461]])"
            ]
          },
          "metadata": {},
          "execution_count": 248
        }
      ]
    },
    {
      "cell_type": "code",
      "source": [
        "\n",
        "sgd_reg = SGDRegressor(penalty=\"l2\")\n",
        "sgd_reg.fit(X, y.ravel())"
      ],
      "metadata": {
        "colab": {
          "base_uri": "https://localhost:8080/"
        },
        "id": "OfSYUwW4oUu8",
        "outputId": "34bc61a1-19ae-4193-9b16-78153ff174d4"
      },
      "execution_count": null,
      "outputs": [
        {
          "output_type": "execute_result",
          "data": {
            "text/plain": [
              "SGDRegressor()"
            ]
          },
          "metadata": {},
          "execution_count": 228
        }
      ]
    },
    {
      "cell_type": "code",
      "source": [
        "pre=sgd_reg.predict(X)\n",
        "plt.scatter(X,pre)\n",
        "plt.scatter(X,y)"
      ],
      "metadata": {
        "colab": {
          "base_uri": "https://localhost:8080/",
          "height": 277
        },
        "id": "Q-l9U_T2oeLm",
        "outputId": "5f3abce7-202e-41aa-aa01-35fc89ed21c7"
      },
      "execution_count": null,
      "outputs": [
        {
          "output_type": "execute_result",
          "data": {
            "text/plain": [
              "<matplotlib.collections.PathCollection at 0x7f9ab43a8940>"
            ]
          },
          "metadata": {},
          "execution_count": 229
        },
        {
          "output_type": "display_data",
          "data": {
            "text/plain": [
              "<Figure size 432x288 with 1 Axes>"
            ],
            "image/png": "[encoded data removed]"
          },
          "metadata": {
            "needs_background": "light"
          }
        }
      ]
    },
    {
      "cell_type": "markdown",
      "source": [
        "Lasso"
      ],
      "metadata": {
        "id": "Krs1SsX6oTV3"
      }
    },
    {
      "cell_type": "code",
      "source": [
        "lasso_reg = Lasso(alpha=0)#solver=\"cholesky\")\n",
        "lasso_reg.fit(X, y)"
      ],
      "metadata": {
        "colab": {
          "base_uri": "https://localhost:8080/"
        },
        "id": "X8CLgDiwrdNl",
        "outputId": "9b3fb283-396d-4a85-fb84-0176c7f0ab0a"
      },
      "execution_count": null,
      "outputs": [
        {
          "output_type": "stream",
          "name": "stderr",
          "text": [
            "<ipython-input-243-407ebf67d054>:2: UserWarning: With alpha=0, this algorithm does not converge well. You are advised to use the LinearRegression estimator\n",
            "  lasso_reg.fit(X, y)\n",
            "/usr/local/lib/python3.8/dist-packages/sklearn/linear_model/_coordinate_descent.py:647: UserWarning: Coordinate descent with no regularization may lead to unexpected results and is discouraged.\n",
            "  model = cd_fast.enet_coordinate_descent(\n",
            "/usr/local/lib/python3.8/dist-packages/sklearn/linear_model/_coordinate_descent.py:647: ConvergenceWarning: Objective did not converge. You might want to increase the number of iterations, check the scale of the features or consider increasing regularisation. Duality gap: 1.406e+02, tolerance: 7.085e-02 Linear regression models with null weight for the l1 regularization term are more efficiently fitted using one of the solvers implemented in sklearn.linear_model.Ridge/RidgeCV instead.\n",
            "  model = cd_fast.enet_coordinate_descent(\n"
          ]
        },
        {
          "output_type": "execute_result",
          "data": {
            "text/plain": [
              "Lasso(alpha=0)"
            ]
          },
          "metadata": {},
          "execution_count": 243
        }
      ]
    },
    {
      "cell_type": "code",
      "source": [
        "pre=lasso_reg.predict(X)\n",
        "plt.scatter(X,pre)\n",
        "plt.scatter(X,y)"
      ],
      "metadata": {
        "colab": {
          "base_uri": "https://localhost:8080/",
          "height": 277
        },
        "id": "HWrQN_Ffrgf4",
        "outputId": "7483b9a0-41ea-4f02-c3b8-25fa5b9f4fef"
      },
      "execution_count": null,
      "outputs": [
        {
          "output_type": "execute_result",
          "data": {
            "text/plain": [
              "<matplotlib.collections.PathCollection at 0x7f9ab3dbefd0>"
            ]
          },
          "metadata": {},
          "execution_count": 244
        },
        {
          "output_type": "display_data",
          "data": {
            "text/plain": [
              "<Figure size 432x288 with 1 Axes>"
            ],
            "image/png": "[encoded data removed]"
          },
          "metadata": {
            "needs_background": "light"
          }
        }
      ]
    }
  ],
  "metadata": {
    "colab": {
      "provenance": [],
      "authorship_tag": "ABX9TyMtwva9J2cUajDm7lySZCJ9",
      "include_colab_link": true
    },
    "kernelspec": {
      "display_name": "Python 3",
      "name": "python3"
    },
    "language_info": {
      "name": "python"
    }
  },
  "nbformat": 4,
  "nbformat_minor": 0
}