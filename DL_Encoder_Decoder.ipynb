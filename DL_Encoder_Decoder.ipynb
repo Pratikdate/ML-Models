{
  "cells": [
    {
      "cell_type": "markdown",
      "metadata": {
        "id": "view-in-github",
        "colab_type": "text"
      },
      "source": [
        "<a href=\"https://colab.research.google.com/github/Pratikdate/ML-Models/blob/main/DL_Encoder_Decoder.ipynb\" target=\"_parent\"><img src=\"https://colab.research.google.com/assets/colab-badge.svg\" alt=\"Open In Colab\"/></a>"
      ]
    },
    {
      "cell_type": "code",
      "execution_count": null,
      "metadata": {
        "id": "oDotp10KBDpd"
      },
      "outputs": [],
      "source": [
        "import seaborn as sns\n",
        "import sklearn \n",
        "import matplotlib.pyplot as plt\n",
        "import numpy as np\n",
        "import pandas as pd\n",
        "import tensorflow as tf"
      ]
    },
    {
      "cell_type": "code",
      "execution_count": null,
      "metadata": {
        "id": "pS_hC6GRBGIv"
      },
      "outputs": [],
      "source": [
        "from sklearn.metrics import accuracy_score, precision_score, recall_score\n",
        "from sklearn.model_selection import train_test_split\n",
        "from tensorflow.keras import layers, losses\n",
        "from tensorflow.keras.datasets import fashion_mnist\n",
        "from tensorflow.keras.models import Model\n",
        "\n",
        "import keras\n",
        "from keras import layers"
      ]
    },
    {
      "cell_type": "code",
      "source": [
        "from keras.utils.vis_utils import plot_model"
      ],
      "metadata": {
        "id": "D2cZyjWCOODm"
      },
      "execution_count": 51,
      "outputs": []
    },
    {
      "cell_type": "code",
      "execution_count": 157,
      "metadata": {
        "colab": {
          "base_uri": "https://localhost:8080/",
          "height": 300
        },
        "id": "LZIKRyzBBGMO",
        "outputId": "a7f7da86-7329-4422-9337-7269044b719d"
      },
      "outputs": [
        {
          "output_type": "stream",
          "name": "stdout",
          "text": [
            "shape : (10000, 28, 28)\n"
          ]
        },
        {
          "output_type": "execute_result",
          "data": {
            "text/plain": [
              "<matplotlib.image.AxesImage at 0x7ff5458940d0>"
            ]
          },
          "metadata": {},
          "execution_count": 157
        },
        {
          "output_type": "display_data",
          "data": {
            "text/plain": [
              "<Figure size 432x288 with 1 Axes>"
            ],
            "image/png": "[encoded data removed]"
          },
          "metadata": {
            "needs_background": "light"
          }
        }
      ],
      "source": [
        "mnist = tf.keras.datasets.mnist\n",
        "\n",
        "(x_train, y_train), (x_test, y_test) = mnist.load_data()\n",
        "\n",
        "x_train, x_test = x_train / 255.0, x_test / 255.0\n",
        "\n",
        "number=0\n",
        "print('shape :',x_test.shape)\n",
        "plt.imshow(x_train[number])"
      ]
    },
    {
      "cell_type": "code",
      "execution_count": 163,
      "metadata": {
        "id": "tEozEp8ABmtl"
      },
      "outputs": [],
      "source": [
        "encoding_dim=32\n",
        "\n",
        "input_img=keras.Input(shape=(784,))\n",
        "\n",
        "\n",
        "encoded=layers.Dense(encoding_dim,activation='relu')(input_img)\n",
        "\n",
        "\n",
        "decoded=layers.Dense(784,activation='sigmoid')(encoded)"
      ]
    },
    {
      "cell_type": "markdown",
      "metadata": {
        "id": "DmvYG_vaE0fj"
      },
      "source": [
        "seperate encoded layer"
      ]
    },
    {
      "cell_type": "code",
      "execution_count": null,
      "metadata": {
        "id": "i802VWkFExB_"
      },
      "outputs": [],
      "source": [
        "#\n",
        "encoder=Model(input_img,encoded)"
      ]
    },
    {
      "cell_type": "code",
      "execution_count": 164,
      "metadata": {
        "id": "3yRND2B1Fp8m"
      },
      "outputs": [],
      "source": [
        "autoencoded=Model(input_img,decoded)"
      ]
    },
    {
      "cell_type": "code",
      "source": [
        "plot_model(encoder, to_file='model_plot.png', show_shapes=True, show_layer_names=True)"
      ],
      "metadata": {
        "colab": {
          "base_uri": "https://localhost:8080/",
          "height": 190
        },
        "id": "VqW5XXY8PGol",
        "outputId": "f15c0faf-4fc8-452f-bfb7-2f7e3f4a3a7a"
      },
      "execution_count": 74,
      "outputs": [
        {
          "output_type": "execute_result",
          "data": {
            "image/png": "[encoded data removed]",
            "text/plain": [
              "<IPython.core.display.Image object>"
            ]
          },
          "metadata": {},
          "execution_count": 74
        }
      ]
    },
    {
      "cell_type": "code",
      "source": [
        "encoder_img=encoder.predict(x_test)"
      ],
      "metadata": {
        "colab": {
          "base_uri": "https://localhost:8080/"
        },
        "id": "CFxkCt3dUDru",
        "outputId": "0959420e-c8cd-498e-ca64-dbed0e09bb99"
      },
      "execution_count": 93,
      "outputs": [
        {
          "output_type": "stream",
          "name": "stdout",
          "text": [
            "313/313 [==============================] - 0s 1ms/step\n"
          ]
        }
      ]
    },
    {
      "cell_type": "code",
      "source": [
        "encoder_img.shape"
      ],
      "metadata": {
        "colab": {
          "base_uri": "https://localhost:8080/"
        },
        "id": "2AkxPvVIVKNo",
        "outputId": "f67fd655-210e-4330-f059-7db7f9b5a278"
      },
      "execution_count": 94,
      "outputs": [
        {
          "output_type": "execute_result",
          "data": {
            "text/plain": [
              "(10000, 32)"
            ]
          },
          "metadata": {},
          "execution_count": 94
        }
      ]
    },
    {
      "cell_type": "markdown",
      "metadata": {
        "id": "4aBQjoVLFNIR"
      },
      "source": [
        "Decoder"
      ]
    },
    {
      "cell_type": "code",
      "execution_count": 73,
      "metadata": {
        "id": "2ROw5qekFMgU"
      },
      "outputs": [],
      "source": [
        "decoder_input=keras.Input(shape=(encoding_dim,))\n",
        "decoder_layer=autoencoded.layers[-1]\n",
        "\n",
        "decoder=Model(decoder_input,decoder_layer(decoder_input))"
      ]
    },
    {
      "cell_type": "code",
      "source": [
        "plot_model(decoder, to_file='model_plot.png', show_shapes=True, show_layer_names=True)"
      ],
      "metadata": {
        "colab": {
          "base_uri": "https://localhost:8080/",
          "height": 196
        },
        "id": "fPNDt8f8POlm",
        "outputId": "532fd941-8d37-460a-b426-aaf9b6210f59"
      },
      "execution_count": 75,
      "outputs": [
        {
          "output_type": "execute_result",
          "data": {
            "image/png": "[encoded data removed]",
            "text/plain": [
              "<IPython.core.display.Image object>"
            ]
          },
          "metadata": {},
          "execution_count": 75
        }
      ]
    },
    {
      "cell_type": "code",
      "source": [
        "decoder_img=decoder.predict(encoder_img)"
      ],
      "metadata": {
        "colab": {
          "base_uri": "https://localhost:8080/"
        },
        "id": "fvEcfBnLVVW6",
        "outputId": "00c763ba-4c6a-459d-fc9d-a26542c8d20c"
      },
      "execution_count": 95,
      "outputs": [
        {
          "output_type": "stream",
          "name": "stdout",
          "text": [
            "313/313 [==============================] - 1s 2ms/step\n"
          ]
        }
      ]
    },
    {
      "cell_type": "code",
      "source": [
        "decoder_img.shape"
      ],
      "metadata": {
        "colab": {
          "base_uri": "https://localhost:8080/"
        },
        "id": "R25nt_aDV23o",
        "outputId": "6f9093bd-4e06-4844-e661-a2f036979535"
      },
      "execution_count": 97,
      "outputs": [
        {
          "output_type": "execute_result",
          "data": {
            "text/plain": [
              "(10000, 784)"
            ]
          },
          "metadata": {},
          "execution_count": 97
        }
      ]
    },
    {
      "cell_type": "code",
      "source": [
        "plt.imshow(decoder_img[0].reshape(28,28))\n",
        "plt.gray()"
      ],
      "metadata": {
        "colab": {
          "base_uri": "https://localhost:8080/",
          "height": 265
        },
        "id": "aCidddyPViqI",
        "outputId": "fc88a8f1-d089-407f-9113-9db9f4a53823"
      },
      "execution_count": 147,
      "outputs": [
        {
          "output_type": "display_data",
          "data": {
            "text/plain": [
              "<Figure size 432x288 with 1 Axes>"
            ],
            "image/png": "[encoded data removed]"
          },
          "metadata": {
            "needs_background": "light"
          }
        }
      ]
    },
    {
      "cell_type": "markdown",
      "source": [
        "auto encoded"
      ],
      "metadata": {
        "id": "JSmWWgPbPWeF"
      }
    },
    {
      "cell_type": "code",
      "execution_count": 165,
      "metadata": {
        "colab": {
          "base_uri": "https://localhost:8080/"
        },
        "id": "EFIxhK8CF1xw",
        "outputId": "26ec3805-2924-417b-b317-318d20d9b412"
      },
      "outputs": [
        {
          "output_type": "stream",
          "name": "stdout",
          "text": [
            "Model: \"model_5\"\n",
            "_________________________________________________________________\n",
            " Layer (type)                Output Shape              Param #   \n",
            "=================================================================\n",
            " input_12 (InputLayer)       [(None, 784)]             0         \n",
            "                                                                 \n",
            " dense_10 (Dense)            (None, 32)                25120     \n",
            "                                                                 \n",
            " dense_11 (Dense)            (None, 784)               25872     \n",
            "                                                                 \n",
            "=================================================================\n",
            "Total params: 50,992\n",
            "Trainable params: 50,992\n",
            "Non-trainable params: 0\n",
            "_________________________________________________________________\n"
          ]
        }
      ],
      "source": [
        "autoencoded.summary()"
      ]
    },
    {
      "cell_type": "code",
      "source": [
        "plot_model(autoencoded, to_file='model_plot.png', show_shapes=True, show_layer_names=True)"
      ],
      "metadata": {
        "colab": {
          "base_uri": "https://localhost:8080/",
          "height": 312
        },
        "id": "TmJIcVznOIQg",
        "outputId": "53653637-20a1-4a87-c956-525c72d0d83a"
      },
      "execution_count": 166,
      "outputs": [
        {
          "output_type": "execute_result",
          "data": {
            "image/png": "[encoded data removed]",
            "text/plain": [
              "<IPython.core.display.Image object>"
            ]
          },
          "metadata": {},
          "execution_count": 166
        }
      ]
    },
    {
      "cell_type": "code",
      "execution_count": 167,
      "metadata": {
        "colab": {
          "base_uri": "https://localhost:8080/"
        },
        "id": "EU3DHCQqGCx4",
        "outputId": "778a2ce8-3f63-4c2b-d35a-a4cb6000b15c"
      },
      "outputs": [
        {
          "output_type": "stream",
          "name": "stdout",
          "text": [
            "(60000, 784)\n",
            "(10000, 784)\n",
            "Epoch 1/50\n",
            "235/235 [==============================] - 4s 14ms/step - loss: 0.2748 - val_loss: 0.1846\n",
            "Epoch 2/50\n",
            "235/235 [==============================] - 3s 15ms/step - loss: 0.1666 - val_loss: 0.1507\n",
            "Epoch 3/50\n",
            "235/235 [==============================] - 5s 20ms/step - loss: 0.1427 - val_loss: 0.1334\n",
            "Epoch 4/50\n",
            "235/235 [==============================] - 3s 15ms/step - loss: 0.1283 - val_loss: 0.1214\n",
            "Epoch 5/50\n",
            "235/235 [==============================] - 3s 14ms/step - loss: 0.1184 - val_loss: 0.1132\n",
            "Epoch 6/50\n",
            "235/235 [==============================] - 3s 14ms/step - loss: 0.1114 - val_loss: 0.1073\n",
            "Epoch 7/50\n",
            "235/235 [==============================] - 3s 14ms/step - loss: 0.1063 - val_loss: 0.1030\n",
            "Epoch 8/50\n",
            "235/235 [==============================] - 3s 14ms/step - loss: 0.1025 - val_loss: 0.0998\n",
            "Epoch 9/50\n",
            "235/235 [==============================] - 3s 13ms/step - loss: 0.0996 - val_loss: 0.0972\n",
            "Epoch 10/50\n",
            "235/235 [==============================] - 3s 13ms/step - loss: 0.0977 - val_loss: 0.0957\n",
            "Epoch 11/50\n",
            "235/235 [==============================] - 3s 14ms/step - loss: 0.0964 - val_loss: 0.0947\n",
            "Epoch 12/50\n",
            "235/235 [==============================] - 3s 14ms/step - loss: 0.0957 - val_loss: 0.0941\n",
            "Epoch 13/50\n",
            "235/235 [==============================] - 3s 14ms/step - loss: 0.0951 - val_loss: 0.0937\n",
            "Epoch 14/50\n",
            "235/235 [==============================] - 3s 13ms/step - loss: 0.0948 - val_loss: 0.0934\n",
            "Epoch 15/50\n",
            "235/235 [==============================] - 3s 14ms/step - loss: 0.0945 - val_loss: 0.0931\n",
            "Epoch 16/50\n",
            "235/235 [==============================] - 3s 14ms/step - loss: 0.0943 - val_loss: 0.0929\n",
            "Epoch 17/50\n",
            "235/235 [==============================] - 3s 14ms/step - loss: 0.0942 - val_loss: 0.0928\n",
            "Epoch 18/50\n",
            "235/235 [==============================] - 3s 13ms/step - loss: 0.0940 - val_loss: 0.0927\n",
            "Epoch 19/50\n",
            "235/235 [==============================] - 3s 13ms/step - loss: 0.0939 - val_loss: 0.0926\n",
            "Epoch 20/50\n",
            "235/235 [==============================] - 3s 14ms/step - loss: 0.0938 - val_loss: 0.0924\n",
            "Epoch 21/50\n",
            "235/235 [==============================] - 3s 13ms/step - loss: 0.0937 - val_loss: 0.0924\n",
            "Epoch 22/50\n",
            "235/235 [==============================] - 3s 14ms/step - loss: 0.0936 - val_loss: 0.0924\n",
            "Epoch 23/50\n",
            "235/235 [==============================] - 3s 14ms/step - loss: 0.0936 - val_loss: 0.0923\n",
            "Epoch 24/50\n",
            "235/235 [==============================] - 3s 14ms/step - loss: 0.0935 - val_loss: 0.0923\n",
            "Epoch 25/50\n",
            "235/235 [==============================] - 3s 13ms/step - loss: 0.0935 - val_loss: 0.0922\n",
            "Epoch 26/50\n",
            "235/235 [==============================] - 3s 13ms/step - loss: 0.0934 - val_loss: 0.0921\n",
            "Epoch 27/50\n",
            "235/235 [==============================] - 3s 14ms/step - loss: 0.0933 - val_loss: 0.0921\n",
            "Epoch 28/50\n",
            "235/235 [==============================] - 3s 13ms/step - loss: 0.0933 - val_loss: 0.0920\n",
            "Epoch 29/50\n",
            "235/235 [==============================] - 3s 13ms/step - loss: 0.0933 - val_loss: 0.0920\n",
            "Epoch 30/50\n",
            "235/235 [==============================] - 3s 14ms/step - loss: 0.0932 - val_loss: 0.0921\n",
            "Epoch 31/50\n",
            "235/235 [==============================] - 3s 14ms/step - loss: 0.0932 - val_loss: 0.0919\n",
            "Epoch 32/50\n",
            "235/235 [==============================] - 3s 14ms/step - loss: 0.0931 - val_loss: 0.0919\n",
            "Epoch 33/50\n",
            "235/235 [==============================] - 3s 14ms/step - loss: 0.0931 - val_loss: 0.0919\n",
            "Epoch 34/50\n",
            "235/235 [==============================] - 3s 13ms/step - loss: 0.0931 - val_loss: 0.0919\n",
            "Epoch 35/50\n",
            "235/235 [==============================] - 3s 14ms/step - loss: 0.0930 - val_loss: 0.0918\n",
            "Epoch 36/50\n",
            "235/235 [==============================] - 3s 14ms/step - loss: 0.0930 - val_loss: 0.0919\n",
            "Epoch 37/50\n",
            "235/235 [==============================] - 3s 13ms/step - loss: 0.0930 - val_loss: 0.0918\n",
            "Epoch 38/50\n",
            "235/235 [==============================] - 3s 13ms/step - loss: 0.0930 - val_loss: 0.0918\n",
            "Epoch 39/50\n",
            "235/235 [==============================] - 3s 13ms/step - loss: 0.0930 - val_loss: 0.0917\n",
            "Epoch 40/50\n",
            "235/235 [==============================] - 3s 14ms/step - loss: 0.0929 - val_loss: 0.0917\n",
            "Epoch 41/50\n",
            "235/235 [==============================] - 3s 14ms/step - loss: 0.0929 - val_loss: 0.0917\n",
            "Epoch 42/50\n",
            "235/235 [==============================] - 3s 13ms/step - loss: 0.0928 - val_loss: 0.0917\n",
            "Epoch 43/50\n",
            "235/235 [==============================] - 3s 13ms/step - loss: 0.0928 - val_loss: 0.0917\n",
            "Epoch 44/50\n",
            "235/235 [==============================] - 3s 13ms/step - loss: 0.0928 - val_loss: 0.0916\n",
            "Epoch 45/50\n",
            "235/235 [==============================] - 3s 13ms/step - loss: 0.0928 - val_loss: 0.0916\n",
            "Epoch 46/50\n",
            "235/235 [==============================] - 3s 13ms/step - loss: 0.0928 - val_loss: 0.0916\n",
            "Epoch 47/50\n",
            "235/235 [==============================] - 3s 14ms/step - loss: 0.0927 - val_loss: 0.0916\n",
            "Epoch 48/50\n",
            "235/235 [==============================] - 3s 14ms/step - loss: 0.0927 - val_loss: 0.0916\n",
            "Epoch 49/50\n",
            "235/235 [==============================] - 3s 14ms/step - loss: 0.0927 - val_loss: 0.0916\n",
            "Epoch 50/50\n",
            "235/235 [==============================] - 3s 14ms/step - loss: 0.0927 - val_loss: 0.0917\n"
          ]
        },
        {
          "output_type": "execute_result",
          "data": {
            "text/plain": [
              "<keras.callbacks.History at 0x7ff4c26bedf0>"
            ]
          },
          "metadata": {},
          "execution_count": 167
        }
      ],
      "source": [
        "x_train = x_train.reshape((len(x_train), np.prod(x_train.shape[1:])))\n",
        "x_test = x_test.reshape((len(x_test), np.prod(x_test.shape[1:])))\n",
        "print(x_train.shape)\n",
        "print(x_test.shape)\n",
        "\n",
        "\n",
        "\n",
        "autoencoded.compile(optimizer='adam',loss='binary_crossentropy')\n",
        "autoencoded.fit(x_train,x_train,validation_data=(x_test,x_test),epochs=50,batch_size=256)"
      ]
    },
    {
      "cell_type": "code",
      "source": [
        "x_test=x_test.reshape(10000,784)\n",
        "\n",
        "pre=autoencoded.predict(x_test)"
      ],
      "metadata": {
        "colab": {
          "base_uri": "https://localhost:8080/"
        },
        "id": "rYFyS4SdOXn0",
        "outputId": "1395a1d6-fea7-4595-f6d2-c5449fd8a3fb"
      },
      "execution_count": 171,
      "outputs": [
        {
          "output_type": "stream",
          "name": "stdout",
          "text": [
            "313/313 [==============================] - 1s 2ms/step\n"
          ]
        }
      ]
    },
    {
      "cell_type": "code",
      "source": [
        "\n",
        "x_test=x_test.reshape(10000,28,28)\n",
        "\n",
        "\n",
        "#pre=autoencoded.predict(x_test)\n",
        "\n",
        "m=3"
      ],
      "metadata": {
        "id": "LPhasDB_Qydo"
      },
      "execution_count": 177,
      "outputs": []
    },
    {
      "cell_type": "code",
      "source": [
        "print('predicted imag:',plt.imshow(pre[m].reshape(28,28)*255.0))"
      ],
      "metadata": {
        "colab": {
          "base_uri": "https://localhost:8080/",
          "height": 282
        },
        "id": "G_zjEKI-Y_gB",
        "outputId": "1b77a64c-a02d-48f4-e37e-acfd6734a2d2"
      },
      "execution_count": 178,
      "outputs": [
        {
          "output_type": "stream",
          "name": "stdout",
          "text": [
            "predicted imag: AxesImage(54,36;334.8x217.44)\n"
          ]
        },
        {
          "output_type": "display_data",
          "data": {
            "text/plain": [
              "<Figure size 432x288 with 1 Axes>"
            ],
            "image/png": "[encoded data removed]"
          },
          "metadata": {
            "needs_background": "light"
          }
        }
      ]
    },
    {
      "cell_type": "code",
      "source": [
        "print('actual imag :',plt.imshow(x_test[m]))"
      ],
      "metadata": {
        "id": "pITgmEfHaRFG",
        "outputId": "09d5e29f-31ad-46fb-eef7-3ce649f23ff6",
        "colab": {
          "base_uri": "https://localhost:8080/",
          "height": 282
        }
      },
      "execution_count": 179,
      "outputs": [
        {
          "output_type": "stream",
          "name": "stdout",
          "text": [
            "actual imag : AxesImage(54,36;334.8x217.44)\n"
          ]
        },
        {
          "output_type": "display_data",
          "data": {
            "text/plain": [
              "<Figure size 432x288 with 1 Axes>"
            ],
            "image/png": "[encoded data removed]"
          },
          "metadata": {
            "needs_background": "light"
          }
        }
      ]
    },
    {
      "cell_type": "code",
      "source": [
        "import matplotlib.pyplot as plt\n",
        "\n",
        "n = 10  # How many digits we will display\n",
        "plt.figure(figsize=(20, 4))\n",
        "for i in range(n):\n",
        "    # Display original\n",
        "    ax = plt.subplot(2, n, i + 1)\n",
        "    plt.imshow(x_test[i].reshape(28, 28))\n",
        "    plt.gray()\n",
        "    ax.get_xaxis().set_visible(False)\n",
        "    ax.get_yaxis().set_visible(False)\n",
        "\n",
        "    # Display reconstruction\n",
        "    ax = plt.subplot(2, n, i + 1 + n)\n",
        "    plt.imshow(decoder_img[i].reshape(28, 28))\n",
        "    plt.gray()\n",
        "    ax.get_xaxis().set_visible(False)\n",
        "    ax.get_yaxis().set_visible(False)\n",
        "plt.show()"
      ],
      "metadata": {
        "id": "g0kpKBD7ckZh",
        "outputId": "18ac5462-96ff-4a42-a769-058012827fb4",
        "colab": {
          "base_uri": "https://localhost:8080/",
          "height": 199
        }
      },
      "execution_count": 176,
      "outputs": [
        {
          "output_type": "display_data",
          "data": {
            "text/plain": [
              "<Figure size 1440x288 with 20 Axes>"
            ],
            "image/png": "[encoded data removed]"
          },
          "metadata": {
            "needs_background": "light"
          }
        }
      ]
    },
    {
      "cell_type": "code",
      "source": [],
      "metadata": {
        "id": "yvAxH90qa2js"
      },
      "execution_count": null,
      "outputs": []
    }
  ],
  "metadata": {
    "colab": {
      "provenance": [],
      "authorship_tag": "ABX9TyNTle+BSk9msdivaiYDc2vZ",
      "include_colab_link": true
    },
    "kernelspec": {
      "display_name": "Python 3",
      "name": "python3"
    },
    "language_info": {
      "name": "python"
    }
  },
  "nbformat": 4,
  "nbformat_minor": 0
}