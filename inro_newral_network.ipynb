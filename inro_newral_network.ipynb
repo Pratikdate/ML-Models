{
 "cells": [
  {
   "cell_type": "code",
   "execution_count": null,
   "metadata": {},
   "outputs": [],
   "source": []
  },
  {
   "attachments": {},
   "cell_type": "markdown",
   "metadata": {},
   "source": [
    "The Perceptron\n",
    "\n",
    "\n",
    "The Perceptron is one of the simplest ANN architectures, invented in 1957 by Frank\n",
    "Rosenblatt. It is based on a slightly different artificial neuron (see Figure 10-4) called a threshold logic unit (TLU), or sometimes a linear threshold unit (LTU): the inputs\n",
    "and output are now numbers (instead of binary on/off values) and each input con‐\n",
    "nection is associated with a weight.\n",
    "\n",
    "\n",
    "\n",
    "The most common step function used in Perceptrons is the Heaviside step function\n",
    "\n",
    "It computes a linear\n",
    "combination of the inputs and if the result exceeds a threshold, it outputs the positive\n",
    "class or else outputs the negative class (just like a Logistic Regression classifier or a\n",
    "linear SVM). For example, you could use a single TLU to classify iris flowers based on\n",
    "the petal length and width\n",
    "\n",
    "A Perceptron is simply composed of a single layer of TLUs,6\n",
    " with each TLU connected\n",
    "to all the inputs. When all the neurons in a layer are connected to every neuron in the\n",
    "previous layer (i.e., its input neurons), it is called a fully connected layer or a dense\n",
    "layer\n",
    "\n",
    "Equation 10-2. Computing the outputs of a fully connected layer\n",
    "h(W, b)(X)= ϕ(XW + b)\n",
    "\n",
    "• As always, X represents the matrix of input features. It has one row per instance,\n",
    "one column per feature.\n",
    "\n",
    "• The weight matrix W contains all the connection weights except for the ones\n",
    "from the bias neuron. It has one row per input neuron and one column per artifi‐\n",
    "cial neuron in the layer.\n",
    "\n",
    "• The bias vector b contains all the connection weights between the bias neuron\n",
    "and the artificial neurons. It has one bias term per artificial neuron.\n",
    "\n",
    "• The function ϕ is called the activation function: "
   ]
  },
  {
   "attachments": {},
   "cell_type": "markdown",
   "metadata": {},
   "source": [
    "Equation 10-3. Perceptron learning rule (weight update)\n",
    "\n",
    "w(i, j)(next step)= wi, j+ η (yj− yj)xi\n",
    "\n",
    "• wi, j\n",
    " is the connection weight between the i\n",
    "th input neuron and the j\n",
    "th output neu‐\n",
    "ron.\n",
    "\n",
    "• xi\n",
    " is the i\n",
    "th input value of the current training instance.\n",
    "\n",
    "• yj is the output of the j\n",
    "th output neuron for the current training instance.\n",
    "\n",
    "• yj\n",
    " is the target output of the j\n",
    "th output neuron for the current training instance.\n",
    "\n",
    "• η is the learning rate."
   ]
  },
  {
   "cell_type": "code",
   "execution_count": 2,
   "metadata": {},
   "outputs": [
    {
     "name": "stderr",
     "output_type": "stream",
     "text": [
      "C:\\Users\\USER\\AppData\\Local\\Temp\\ipykernel_15276\\3088752115.py:6: DeprecationWarning: `np.int` is a deprecated alias for the builtin `int`. To silence this warning, use `int` by itself. Doing this will not modify any behavior and is safe. When replacing `np.int`, you may wish to use e.g. `np.int64` or `np.int32` to specify the precision. If you wish to review your current use, check the release note link for additional information.\n",
      "Deprecated in NumPy 1.20; for more details and guidance: https://numpy.org/devdocs/release/1.20.0-notes.html#deprecations\n",
      "  y = (iris.target == 0).astype(np.int) # Iris Setosa?\n"
     ]
    },
    {
     "data": {
      "text/plain": [
       "array([0])"
      ]
     },
     "execution_count": 2,
     "metadata": {},
     "output_type": "execute_result"
    }
   ],
   "source": [
    "import numpy as np\n",
    "from sklearn.datasets import load_iris\n",
    "from sklearn.linear_model import Perceptron\n",
    "iris = load_iris()\n",
    "X = iris.data[:, (2, 3)] # petal length, petal width\n",
    "y = (iris.target == 0).astype(np.int) # Iris Setosa?\n",
    "per_clf = Perceptron()\n",
    "per_clf.fit(X, y)\n",
    "\n",
    "y_pred = per_clf.predict([[2, 0.5]])\n",
    "y_pred"
   ]
  },
  {
   "attachments": {},
   "cell_type": "markdown",
   "metadata": {},
   "source": [
    "Multi-Layer Perceptron and Backpropagation\n",
    "\n",
    "\n",
    "An MLP is composed of one (passthrough) input layer, one or more layers of TLUs,\n",
    "called hidden layers, and one final layer of TLUs called the output layer\n",
    "\n",
    "\n",
    "The signal flows only in one direction (from the inputs to the out‐\n",
    "puts), so this architecture is an example of a feedforward neural net‐\n",
    "work (FNN).\n",
    "\n",
    "When an ANN contains a deep stack of hidden layers8\n",
    ", it is called a deep neural net‐\n",
    "work (DNN)\n",
    "\n",
    "Automatically computing gradients is called automatic dierentia‐\n",
    "tion, or autodi. There are various autodiff techniques, with differ‐\n",
    "ent pros and cons. The one used by backpropagation is called\n",
    "reverse-mode autodi. It is fast and precise, and is well suited when\n",
    "the function to differentiate has many variables (e.g., connection\n",
    "weights) and few outputs (e.g., one loss).\n",
    "\n",
    "\n",
    "\n",
    "1 .It handles one mini-batch at a time (for example containing 32 instances each),\n",
    "and it goes through the full training set multiple times. Each pass is called an\n",
    "epoch,\n",
    "\n",
    "2 .Each mini-batch is passed to the network’s input layer, which just sends it to the\n",
    "first hidden layer. The algorithm then computes the output of all the neurons in\n",
    "this layer (for every instance in the mini-batch). The result is passed on to the\n",
    "next layer, its output is computed and passed to the next layer, and so on until we\n",
    "get the output of the last layer, the output layer. This is the forward pass: it is\n",
    "exactly like making predictions, except all intermediate results are preserved\n",
    "since they are needed for the backward pass\n",
    "\n",
    "\n",
    "\n",
    "• Next, the algorithm measures the network’s output error (i.e., it uses a loss func‐\n",
    "tion that compares the desired output and the actual output of the network, and\n",
    "returns some measure of the error).\n",
    "\n",
    "• Then it computes how much each output connection contributed to the error.\n",
    "This is done analytically by simply applying the chain rule (perhaps the most fun‐\n",
    "damental rule in calculus), which makes this step fast and precise.\n",
    "\n",
    "\n",
    "• The algorithm then measures how much of these error contributions came from\n",
    "each connection in the layer below, again using the chain rule—and so on until\n",
    "the algorithm reaches the input layer. As we explained earlier, this reverse pass\n",
    "efficiently measures the error gradient across all the connection weights in thenetwork by propagating the error gradient backward through the network (hence\n",
    "the name of the algorithm).\n",
    "\n",
    "• Finally, the algorithm performs a Gradient Descent step to tweak all the connec‐\n",
    "tion weights in the network, using the error gradients it just computed\n",
    "\n",
    "\n",
    "It is important to initialize all the hidden layers’ connection weights\n",
    "randomly, or else training will fail. For example, if you initialize all\n",
    "weights and biases to zero, then all neurons in a given layer will be\n",
    "perfectly identical, and thus backpropagation will affect them in\n",
    "exactly the same way, so they will remain identical"
   ]
  },
  {
   "attachments": {},
   "cell_type": "markdown",
   "metadata": {},
   "source": [
    "The hyperbolic tangent function tanh(z) = 2σ(2z) – 1 :\n",
    "\n",
    "Just like the logistic function it is S-shaped, continuous, and differentiable, but its\n",
    "output value ranges from –1 to 1 (instead of 0 to 1 in the case of the logistic func‐\n",
    "tion), which tends to make each layer’s output more or less centered around 0 at\n",
    "the beginning of training. This often helps speed up convergence.\n",
    "\n",
    "\n",
    "The Rectified Linear Unit function: ReLU(z) = max(0, z):\n",
    "It is continuous but unfortunately not differentiable at z = 0 (the slope changes\n",
    "abruptly, which can make Gradient Descent bounce around), and its derivative is\n",
    "0 for z < 0. However, in practice it works very well and has the advantage of being fast to compute11. Most importantly, the fact that it does not have a maximum\n",
    "output value also helps reduce some issues during Gradient Descent"
   ]
  },
  {
   "attachments": {},
   "cell_type": "markdown",
   "metadata": {},
   "source": [
    "In general, when building an MLP for regression, you do not want to use any activa‐\n",
    "tion function for the output neurons, so they are free to output any range of values.\n",
    "However, if you want to guarantee that the output will always be positive, then you\n",
    "can use the ReLU activation function, or the soplus activation function in the output\n",
    "layer"
   ]
  },
  {
   "attachments": {},
   "cell_type": "markdown",
   "metadata": {},
   "source": [
    "python -c \"import tensorflow as tf; print(tf.config.list_physical_devices('GPU'))\""
   ]
  },
  {
   "cell_type": "markdown",
   "metadata": {},
   "source": []
  },
  {
   "cell_type": "code",
   "execution_count": 7,
   "metadata": {},
   "outputs": [],
   "source": [
    "import tensorflow as tf\n",
    "from tensorflow import keras"
   ]
  },
  {
   "cell_type": "code",
   "execution_count": 9,
   "metadata": {},
   "outputs": [],
   "source": [
    "fashion_mnist = keras.datasets.fashion_mnist\n",
    "(X_train_full, y_train_full), (X_test, y_test) = fashion_mnist.load_data()\n"
   ]
  },
  {
   "cell_type": "code",
   "execution_count": 10,
   "metadata": {},
   "outputs": [
    {
     "data": {
      "text/plain": [
       "(60000, 28, 28)"
      ]
     },
     "execution_count": 10,
     "metadata": {},
     "output_type": "execute_result"
    }
   ],
   "source": [
    "X_train_full.shape"
   ]
  },
  {
   "cell_type": "code",
   "execution_count": 11,
   "metadata": {},
   "outputs": [],
   "source": [
    "X_valid, X_train = X_train_full[:5000] / 255.0, X_train_full[5000:] / 255.0\n",
    "y_valid, y_train = y_train_full[:5000], y_train_full[5000:]"
   ]
  },
  {
   "cell_type": "code",
   "execution_count": 12,
   "metadata": {},
   "outputs": [
    {
     "data": {
      "text/plain": [
       "'Coat'"
      ]
     },
     "execution_count": 12,
     "metadata": {},
     "output_type": "execute_result"
    }
   ],
   "source": [
    "class_names = [\"T-shirt/top\", \"Trouser\", \"Pullover\", \"Dress\", \"Coat\",\n",
    " \"Sandal\", \"Shirt\", \"Sneaker\", \"Bag\", \"Ankle boot\"]\n",
    "\n",
    "class_names[y_train[0]]"
   ]
  },
  {
   "cell_type": "code",
   "execution_count": 13,
   "metadata": {},
   "outputs": [],
   "source": [
    "model = keras.models.Sequential()\n",
    "model.add(keras.layers.Flatten(input_shape=[28, 28]))\n",
    "hidden1=model.add(keras.layers.Dense(300, activation=\"relu\"))\n",
    "model.add(keras.layers.Dense(100, activation=\"relu\"))\n",
    "model.add(keras.layers.Dense(10, activation=\"softmax\"))"
   ]
  },
  {
   "attachments": {},
   "cell_type": "markdown",
   "metadata": {},
   "source": [
    "Specifying activation=\"relu\" is equivalent to activa\n",
    "tion=keras.activations.relu. Other activation functions are\n",
    "available in the keras.activations package, we will use many of\n",
    "them in this book. "
   ]
  },
  {
   "cell_type": "code",
   "execution_count": 14,
   "metadata": {},
   "outputs": [
    {
     "name": "stdout",
     "output_type": "stream",
     "text": [
      "Model: \"sequential\"\n",
      "_________________________________________________________________\n",
      "Layer (type)                 Output Shape              Param #   \n",
      "=================================================================\n",
      "flatten (Flatten)            (None, 784)               0         \n",
      "_________________________________________________________________\n",
      "dense (Dense)                (None, 300)               235500    \n",
      "_________________________________________________________________\n",
      "dense_1 (Dense)              (None, 100)               30100     \n",
      "_________________________________________________________________\n",
      "dense_2 (Dense)              (None, 10)                1010      \n",
      "=================================================================\n",
      "Total params: 266,610\n",
      "Trainable params: 266,610\n",
      "Non-trainable params: 0\n",
      "_________________________________________________________________\n"
     ]
    }
   ],
   "source": [
    "model.summary()"
   ]
  },
  {
   "cell_type": "code",
   "execution_count": 15,
   "metadata": {},
   "outputs": [
    {
     "data": {
      "text/plain": [
       "[<keras.layers.core.Flatten at 0x17bdf482520>,\n",
       " <keras.layers.core.Dense at 0x17bdf482df0>,\n",
       " <keras.layers.core.Dense at 0x17bfbfe11f0>,\n",
       " <keras.layers.core.Dense at 0x17bfc036ee0>]"
      ]
     },
     "execution_count": 15,
     "metadata": {},
     "output_type": "execute_result"
    }
   ],
   "source": [
    " model.layers"
   ]
  },
  {
   "cell_type": "code",
   "execution_count": 16,
   "metadata": {},
   "outputs": [
    {
     "data": {
      "text/plain": [
       "'dense'"
      ]
     },
     "execution_count": 16,
     "metadata": {},
     "output_type": "execute_result"
    }
   ],
   "source": [
    "model.layers[1].name"
   ]
  },
  {
   "cell_type": "code",
   "execution_count": 17,
   "metadata": {},
   "outputs": [],
   "source": [
    "model.compile(loss=\"sparse_categorical_crossentropy\",\n",
    " optimizer=\"sgd\",\n",
    " metrics=[\"accuracy\"])"
   ]
  },
  {
   "cell_type": "code",
   "execution_count": 18,
   "metadata": {},
   "outputs": [
    {
     "name": "stdout",
     "output_type": "stream",
     "text": [
      "Epoch 1/30\n",
      "1719/1719 [==============================] - 10s 5ms/step - loss: 0.7282 - accuracy: 0.7623 - val_loss: 0.4932 - val_accuracy: 0.8378\n",
      "Epoch 2/30\n",
      "1719/1719 [==============================] - 6s 4ms/step - loss: 0.4891 - accuracy: 0.8293 - val_loss: 0.4417 - val_accuracy: 0.8514\n",
      "Epoch 3/30\n",
      "1719/1719 [==============================] - 6s 3ms/step - loss: 0.4446 - accuracy: 0.8434 - val_loss: 0.4472 - val_accuracy: 0.8404\n",
      "Epoch 4/30\n",
      "1719/1719 [==============================] - 6s 3ms/step - loss: 0.4182 - accuracy: 0.8530 - val_loss: 0.4368 - val_accuracy: 0.8488\n",
      "Epoch 5/30\n",
      "1719/1719 [==============================] - 6s 3ms/step - loss: 0.3980 - accuracy: 0.8586 - val_loss: 0.4009 - val_accuracy: 0.8646\n",
      "Epoch 6/30\n",
      "1719/1719 [==============================] - 6s 3ms/step - loss: 0.3809 - accuracy: 0.8660 - val_loss: 0.3963 - val_accuracy: 0.8612\n",
      "Epoch 7/30\n",
      "1719/1719 [==============================] - 6s 3ms/step - loss: 0.3673 - accuracy: 0.8701 - val_loss: 0.3627 - val_accuracy: 0.8736\n",
      "Epoch 8/30\n",
      "1719/1719 [==============================] - 6s 3ms/step - loss: 0.3570 - accuracy: 0.8727 - val_loss: 0.3607 - val_accuracy: 0.8698\n",
      "Epoch 9/30\n",
      "1719/1719 [==============================] - 6s 4ms/step - loss: 0.3471 - accuracy: 0.8758 - val_loss: 0.3604 - val_accuracy: 0.8762\n",
      "Epoch 10/30\n",
      "1719/1719 [==============================] - 7s 4ms/step - loss: 0.3363 - accuracy: 0.8796 - val_loss: 0.3729 - val_accuracy: 0.8704\n",
      "Epoch 11/30\n",
      "1719/1719 [==============================] - 6s 4ms/step - loss: 0.3289 - accuracy: 0.8819 - val_loss: 0.3453 - val_accuracy: 0.8804\n",
      "Epoch 12/30\n",
      "1719/1719 [==============================] - 5s 3ms/step - loss: 0.3198 - accuracy: 0.8851 - val_loss: 0.3400 - val_accuracy: 0.8806\n",
      "Epoch 13/30\n",
      "1719/1719 [==============================] - 6s 3ms/step - loss: 0.3129 - accuracy: 0.8879 - val_loss: 0.3366 - val_accuracy: 0.8784\n",
      "Epoch 14/30\n",
      "1719/1719 [==============================] - 6s 3ms/step - loss: 0.3056 - accuracy: 0.8896 - val_loss: 0.3229 - val_accuracy: 0.8870\n",
      "Epoch 15/30\n",
      "1719/1719 [==============================] - 6s 3ms/step - loss: 0.2994 - accuracy: 0.8917 - val_loss: 0.3365 - val_accuracy: 0.8826\n",
      "Epoch 16/30\n",
      "1719/1719 [==============================] - 6s 3ms/step - loss: 0.2930 - accuracy: 0.8948 - val_loss: 0.3134 - val_accuracy: 0.8880\n",
      "Epoch 17/30\n",
      "1719/1719 [==============================] - 6s 4ms/step - loss: 0.2877 - accuracy: 0.8953 - val_loss: 0.3282 - val_accuracy: 0.8812\n",
      "Epoch 18/30\n",
      "1719/1719 [==============================] - 6s 3ms/step - loss: 0.2819 - accuracy: 0.8990 - val_loss: 0.3311 - val_accuracy: 0.8778\n",
      "Epoch 19/30\n",
      "1719/1719 [==============================] - 6s 3ms/step - loss: 0.2765 - accuracy: 0.9004 - val_loss: 0.3322 - val_accuracy: 0.8796\n",
      "Epoch 20/30\n",
      "1719/1719 [==============================] - 7s 4ms/step - loss: 0.2718 - accuracy: 0.9017 - val_loss: 0.3346 - val_accuracy: 0.8770\n",
      "Epoch 21/30\n",
      "1719/1719 [==============================] - 6s 4ms/step - loss: 0.2664 - accuracy: 0.9044 - val_loss: 0.3023 - val_accuracy: 0.8864\n",
      "Epoch 22/30\n",
      "1719/1719 [==============================] - 5s 3ms/step - loss: 0.2613 - accuracy: 0.9058 - val_loss: 0.3201 - val_accuracy: 0.8858\n",
      "Epoch 23/30\n",
      "1719/1719 [==============================] - 6s 3ms/step - loss: 0.2575 - accuracy: 0.9079 - val_loss: 0.3111 - val_accuracy: 0.8902\n",
      "Epoch 24/30\n",
      "1719/1719 [==============================] - 8s 5ms/step - loss: 0.2526 - accuracy: 0.9104 - val_loss: 0.3056 - val_accuracy: 0.8884\n",
      "Epoch 25/30\n",
      "1719/1719 [==============================] - 8s 5ms/step - loss: 0.2498 - accuracy: 0.9099 - val_loss: 0.2999 - val_accuracy: 0.8950\n",
      "Epoch 26/30\n",
      "1719/1719 [==============================] - 8s 5ms/step - loss: 0.2450 - accuracy: 0.9119 - val_loss: 0.2945 - val_accuracy: 0.8952\n",
      "Epoch 27/30\n",
      "1719/1719 [==============================] - 8s 4ms/step - loss: 0.2399 - accuracy: 0.9136 - val_loss: 0.3119 - val_accuracy: 0.8892\n",
      "Epoch 28/30\n",
      "1719/1719 [==============================] - 8s 4ms/step - loss: 0.2363 - accuracy: 0.9153 - val_loss: 0.2978 - val_accuracy: 0.8920\n",
      "Epoch 29/30\n",
      "1719/1719 [==============================] - 8s 4ms/step - loss: 0.2323 - accuracy: 0.9156 - val_loss: 0.3036 - val_accuracy: 0.8874\n",
      "Epoch 30/30\n",
      "1719/1719 [==============================] - 8s 4ms/step - loss: 0.2293 - accuracy: 0.9170 - val_loss: 0.2997 - val_accuracy: 0.8916\n"
     ]
    }
   ],
   "source": [
    "history = model.fit(X_train, y_train, epochs=30,validation_data=(X_valid, y_valid))"
   ]
  },
  {
   "cell_type": "code",
   "execution_count": 23,
   "metadata": {},
   "outputs": [
    {
     "data": {
      "image/png": "[encoded data removed]",
      "text/plain": [
       "<Figure size 800x500 with 1 Axes>"
      ]
     },
     "metadata": {},
     "output_type": "display_data"
    }
   ],
   "source": [
    "import pandas as pd\n",
    "import matplotlib.pyplot as plt\n",
    "pd.DataFrame(history.history).plot(figsize=(8, 5))\n",
    "plt.grid(True)\n",
    "plt.gca().set_ylim(0, 1) # set the vertical range to [0-1]\n",
    "plt.show()"
   ]
  },
  {
   "cell_type": "code",
   "execution_count": 22,
   "metadata": {},
   "outputs": [
    {
     "name": "stdout",
     "output_type": "stream",
     "text": [
      "313/313 [==============================] - 2s 4ms/step - loss: 60.9560 - accuracy: 0.8521\n"
     ]
    },
    {
     "data": {
      "text/plain": [
       "[60.95600509643555, 0.8521000146865845]"
      ]
     },
     "execution_count": 22,
     "metadata": {},
     "output_type": "execute_result"
    }
   ],
   "source": [
    "model.evaluate(X_test, y_test)"
   ]
  }
 ],
 "metadata": {
  "kernelspec": {
   "display_name": "tf-gpu",
   "language": "python",
   "name": "python3"
  },
  "language_info": {
   "codemirror_mode": {
    "name": "ipython",
    "version": 3
   },
   "file_extension": ".py",
   "mimetype": "text/x-python",
   "name": "python",
   "nbconvert_exporter": "python",
   "pygments_lexer": "ipython3",
   "version": "3.9.16"
  },
  "orig_nbformat": 4,
  "vscode": {
   "interpreter": {
    "hash": "5de379b2a23e9854180495b4568cbbe7ccfd2268c2f8496bb11f0e536b3c4a37"
   }
  }
 },
 "nbformat": 4,
 "nbformat_minor": 2
}
