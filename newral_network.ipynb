{
 "cells": [
  {
   "cell_type": "code",
   "execution_count": null,
   "metadata": {},
   "outputs": [],
   "source": [
    "from tensorflow import keras\n",
    "import matplotlib.pyplot as plt \n",
    "import numpy as np\n",
    "from sklearn.datasets import make_blobs,make_circles,make_moons\n",
    "import keras\n",
    "import pandas as pd"
   ]
  },
  {
   "cell_type": "code",
   "execution_count": null,
   "metadata": {},
   "outputs": [],
   "source": [
    "n_samples = 1000\n",
    "x,y = make_circles(n_samples=n_samples,factor=0.7, noise=0.05)\n",
    "x_noisy_moons ,y_noisy_moons= make_moons(n_samples=n_samples, noise=0.05)\n",
    "x_blobs,y_blobs = make_blobs(n_samples=n_samples, random_state=8)\n",
    "\n",
    "\n",
    "plt.figure(figsize=(9,3))\n",
    "plt.subplot(131)\n",
    "plt.scatter(x[:,:1],x[:,1:])\n",
    "\n",
    "\n",
    "plt.subplot(132)\n",
    "plt.scatter(x_noisy_moons[:,:1],x_noisy_moons[:,1:])\n",
    "\n",
    "plt.subplot(133)\n",
    "plt.scatter(x_blobs[:,:1],x_blobs[:,1:])\n",
    "\n",
    "\n",
    "\n"
   ]
  },
  {
   "cell_type": "code",
   "execution_count": null,
   "metadata": {},
   "outputs": [],
   "source": [
    "input=keras.layers.Input(shape=(2))\n",
    "\n",
    "hidden_1=keras.layers.Dense(100,activation=\"relu\")(input)\n",
    "#hidden_2=keras.layers.Dense(80,activation=\"relu\")(hidden_1)\n",
    "\n",
    "output=keras.layers.Dense(1)(hidden_1)\n",
    "\n",
    "model=keras.models.Model(inputs=input,outputs=output)"
   ]
  },
  {
   "cell_type": "code",
   "execution_count": null,
   "metadata": {},
   "outputs": [],
   "source": [
    "model.compile(optimizer='sgd',loss='mse',metrics=['accuracy'])"
   ]
  },
  {
   "cell_type": "code",
   "execution_count": null,
   "metadata": {},
   "outputs": [],
   "source": [
    "model.summary()"
   ]
  },
  {
   "cell_type": "code",
   "execution_count": null,
   "metadata": {},
   "outputs": [],
   "source": [
    "x.shape"
   ]
  },
  {
   "cell_type": "code",
   "execution_count": null,
   "metadata": {},
   "outputs": [],
   "source": [
    "history=model.fit(x,y,epochs=100)"
   ]
  },
  {
   "cell_type": "code",
   "execution_count": null,
   "metadata": {},
   "outputs": [],
   "source": [
    "model.evaluate(x,x)"
   ]
  },
  {
   "cell_type": "code",
   "execution_count": null,
   "metadata": {},
   "outputs": [],
   "source": [
    "def plot(history):\n",
    "    plt.plot(history.history[\"loss\"])\n",
    "    plt.plot(history.history[\"accuracy\"])\n",
    "    plt.title('model loss')\n",
    "    plt.ylabel('accuracy')\n",
    "    plt.xlabel('epoch')\n",
    "    plt.legend(['loss','accuracy'], loc='upper left')\n",
    "    plt.show()\n",
    "\n",
    "plot(history)"
   ]
  },
  {
   "cell_type": "code",
   "execution_count": null,
   "metadata": {},
   "outputs": [],
   "source": [
    "class apimodel(keras.models.Model):\n",
    "    def __init__(self,units=100,activation='relu') :\n",
    "        super().__init__()\n",
    "        self.hidden1=keras.layers.Dense(units,activation=activation)\n",
    "        self.hidden2=keras.layers.Dense(units,activation=activation)\n",
    "        self.out=keras.layers.Dense(1)\n",
    "    def call(self,input):\n",
    "        hidden_1=self.hidden1(input)\n",
    "        hidden_2=self.hidden2(hidden_1)\n",
    "        out=self.out(hidden_2)\n",
    "        return out\n",
    "\n",
    "api=apimodel()\n",
    "api.compile(optimizer='sgd',loss='mse',metrics=['accuracy'])\n"
   ]
  },
  {
   "cell_type": "code",
   "execution_count": null,
   "metadata": {},
   "outputs": [],
   "source": [
    "history=api.fit(x_noisy_moons,y_noisy_moons,epochs=100)"
   ]
  },
  {
   "cell_type": "code",
   "execution_count": null,
   "metadata": {},
   "outputs": [],
   "source": [
    "plot(history)"
   ]
  },
  {
   "cell_type": "code",
   "execution_count": null,
   "metadata": {},
   "outputs": [],
   "source": [
    "history=api.fit(x,y,epochs=100)"
   ]
  },
  {
   "cell_type": "code",
   "execution_count": null,
   "metadata": {},
   "outputs": [],
   "source": [
    "history=api.fit(x_blobs,y_blobs,epochs=100)"
   ]
  }
 ],
 "metadata": {
  "kernelspec": {
   "display_name": "tensorflow_env",
   "language": "python",
   "name": "python3"
  },
  "language_info": {
   "codemirror_mode": {
    "name": "ipython",
    "version": 3
   },
   "file_extension": ".py",
   "mimetype": "text/x-python",
   "name": "python",
   "nbconvert_exporter": "python",
   "pygments_lexer": "ipython3",
   "version": "3.10.9"
  },
  "orig_nbformat": 4,
  "vscode": {
   "interpreter": {
    "hash": "dd68b8f677b2174759d58ebb78708f365337139cf5b4c53cee403bb05ecba74d"
   }
  }
 },
 "nbformat": 4,
 "nbformat_minor": 2
}
